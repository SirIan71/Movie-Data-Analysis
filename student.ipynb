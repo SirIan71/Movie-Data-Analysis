{
 "cells": [
  {
   "cell_type": "markdown",
   "metadata": {},
   "source": [
    "# FINAL PROJECT SUBMISSION\n",
    "\n",
    "- Student Name: Ian Korir\n",
    "- Student Pase: Fulltime-Hybrid student\n",
    "- Scheduled Project Review: 22/03/2024\n",
    "- Instructor Name: Nikita Njoroge\n",
    "- Blog Post: "
   ]
  },
  {
   "cell_type": "markdown",
   "metadata": {},
   "source": [
    "# Introduction\n",
    "## Overview\n",
    "Business Problem:\n",
    "Viusasa new movie studio aims to establish itself as a leading player in the entertainment industry by producing high-quality and commercially successful movies. However, the studio faces the challenge of navigating the complexities of the movie market to ensure its productions resonate with audiences and generate significant revenue.\n",
    "\n",
    "\n",
    "Problem Statement: How can Viusasa's new movie studio strategically optimize its production and release strategy to maximize box office success and audience satisfaction?\n",
    "\n",
    "## Objectives\n",
    "Key Objectives:\n",
    "1.\tIdentify the most profitable and audience-friendly movie genres to prioritize in production efforts.\n",
    "2.\tDetermine the optimal timing for movie releases to maximize audience turnout and box office revenue.\n",
    "3.\tEnhance audience engagement and satisfaction by aligning movie offerings with audience preferences and expectations.\n",
    "\n",
    "## The Data\n",
    "The datasets are stored in the 'zippedData' folder which were sourced from:\n",
    "1.\tBox Office MojoLinks : \n",
    "\tbom.movie_gross.csv\n",
    "2.\tIMDBLinks : \n",
    "\tim.db\n",
    "3.\tRotten TomatoesLinks : \n",
    "\trt.movie_info.tsv\n",
    "4.\tTheMovieDBLinks : \n",
    "\ttmdb.movies.csv\n",
    "5.\tThe Numbers :\n",
    "\ttn.movie_budgets.csv\n",
    "\n",
    "\n"
   ]
  },
  {
   "cell_type": "markdown",
   "metadata": {},
   "source": [
    "## Import relevant libraries\n"
   ]
  },
  {
   "cell_type": "code",
   "execution_count": null,
   "metadata": {},
   "outputs": [],
   "source": [
    "#importing libraries\n",
    "import pandas as pd\n",
    "import sqlite3\n",
    "import csv\n",
    "import matplotlib.pyplot as plt"
   ]
  }
 ],
 "metadata": {
  "kernelspec": {
   "display_name": "base",
   "language": "python",
   "name": "python3"
  },
  "language_info": {
   "name": "python",
   "version": "3.11.5"
  }
 },
 "nbformat": 4,
 "nbformat_minor": 2
}
